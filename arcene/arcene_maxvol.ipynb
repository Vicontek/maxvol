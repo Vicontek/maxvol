{
 "cells": [
  {
   "cell_type": "code",
   "execution_count": 89,
   "metadata": {},
   "outputs": [],
   "source": [
    "import maxvolpy.maxvol as mv\n",
    "import numpy as np\n",
    "import pandas as pd\n",
    "\n",
    "from scipy.sparse.linalg import svds\n",
    "from scipy.sparse import csr_matrix\n",
    "\n",
    "from sklearn.linear_model import LinearRegression\n",
    "from sklearn.metrics import accuracy_score\n",
    "from sklearn.decomposition import PCA\n",
    "from sklearn.preprocessing import MinMaxScaler\n",
    "\n",
    "import matplotlib.pyplot as plt"
   ]
  },
  {
   "cell_type": "code",
   "execution_count": 109,
   "metadata": {},
   "outputs": [],
   "source": [
    "train = np.loadtxt('arcene/arcene_train.data')\n",
    "train_labels = np.loadtxt('arcene/arcene_train.labels')\n",
    "valid = np.loadtxt('arcene/arcene_valid.data')\n",
    "valid_labels = np.loadtxt('arcene/arcene_valid.labels')\n"
   ]
  },
  {
   "cell_type": "code",
   "execution_count": 112,
   "metadata": {},
   "outputs": [
    {
     "data": {
      "text/plain": [
       "100"
      ]
     },
     "execution_count": 112,
     "metadata": {},
     "output_type": "execute_result"
    }
   ],
   "source": [
    "np.linalg.matrix_rank(train)"
   ]
  },
  {
   "cell_type": "code",
   "execution_count": 110,
   "metadata": {},
   "outputs": [],
   "source": [
    "scaler = MinMaxScaler() \n",
    "train = scaler.fit_transform(train)\n",
    "valid = scaler.transform(valid)"
   ]
  },
  {
   "cell_type": "code",
   "execution_count": 113,
   "metadata": {},
   "outputs": [
    {
     "data": {
      "text/plain": [
       "100"
      ]
     },
     "execution_count": 113,
     "metadata": {},
     "output_type": "execute_result"
    }
   ],
   "source": [
    "np.linalg.matrix_rank(train)"
   ]
  },
  {
   "cell_type": "code",
   "execution_count": 22,
   "metadata": {},
   "outputs": [
    {
     "name": "stdout",
     "output_type": "stream",
     "text": [
      "CPU times: user 8.22 s, sys: 899 ms, total: 9.12 s\n",
      "Wall time: 2.5 s\n"
     ]
    }
   ],
   "source": [
    "%%time\n",
    "k = 500\n",
    "inds, C = mv.rect_maxvol(train.T, maxK=k, minK=k)\n",
    "\n",
    "non_inds = [i for i in range(train.shape[1]) if i not in inds]\n",
    "train_maxvol = train[:, inds]\n",
    "valid_maxvol = valid[:, inds]"
   ]
  },
  {
   "cell_type": "code",
   "execution_count": 23,
   "metadata": {},
   "outputs": [
    {
     "name": "stdout",
     "output_type": "stream",
     "text": [
      "Full model accuracy: 0.73\n",
      "Maxvol model accuracy: 0.51\n",
      "Non-maxvol model accuracy: 0.69\n",
      "Mean random feature choice accuracy: 0.68\n"
     ]
    }
   ],
   "source": [
    "model = LinearRegression()\n",
    "\n",
    "# fit on all features\n",
    "model_full = model.fit(train, train_labels)\n",
    "full_acc = model_full.score(valid, valid_labels) \n",
    "print(f'Full model accuracy: {full_acc:.2f}')\n",
    "\n",
    "# fit on maxvol features\n",
    "model_maxvol = model.fit(train_maxvol, train_labels)\n",
    "print(f'Maxvol model accuracy: {model_maxvol.score(valid_maxvol, valid_labels):.2f}')\n",
    "\n",
    "# fit on non-maxvol features\n",
    "model_maxvol = model.fit(train[:, non_inds], train_labels)\n",
    "print(f'Non-maxvol model accuracy: {model_maxvol.score(valid[:, non_inds], valid_labels):.2f}')\n",
    "\n",
    "# fit on random features\n",
    "rand_accuracies = []\n",
    "for i in range(100):\n",
    "    rand_indices = np.random.choice(train.shape[1], k, replace=False)\n",
    "    train_rand = train[:, rand_indices]\n",
    "    valid_rand = valid[:, rand_indices]\n",
    "    \n",
    "    model_rand = model.fit(train_rand, train_labels)\n",
    "    rand_accuracies.append(model_rand.score(valid_rand, valid_labels))\n",
    "    \n",
    "print(f'Mean random feature choice accuracy: {np.array(rand_accuracies).mean():.2f}')"
   ]
  },
  {
   "cell_type": "code",
   "execution_count": 73,
   "metadata": {},
   "outputs": [],
   "source": [
    "maxvol_indices = {}\n",
    "with open('maxvol_arcene_indices.txt', 'r') as f:\n",
    "    for line in f:\n",
    "        inds = np.array(list(map(int, line.split())))\n",
    "        maxvol_indices[len(inds)] = inds"
   ]
  },
  {
   "cell_type": "code",
   "execution_count": 91,
   "metadata": {},
   "outputs": [],
   "source": [
    "maxvol_indices = {}"
   ]
  },
  {
   "cell_type": "code",
   "execution_count": 106,
   "metadata": {},
   "outputs": [
    {
     "name": "stdout",
     "output_type": "stream",
     "text": [
      "Processing k = 150\n",
      "Processing k = 500\n",
      "Processing k = 1000\n",
      "Processing k = 3000\n",
      "Processing k = 5000\n",
      "Processing k = 7000\n",
      "Processing k = 9000\n",
      "CPU times: user 26.7 s, sys: 27.8 s, total: 54.4 s\n",
      "Wall time: 14 s\n"
     ]
    }
   ],
   "source": [
    "%%time\n",
    "\n",
    "mv_accs = []\n",
    "non_mv_accs = []\n",
    "mean_rand_accs = []\n",
    "\n",
    "k_range = [150, 500, 1000, 3000, 5000, 7000, 9000]\n",
    "for k in k_range:\n",
    "    print(f'Processing k = {k}')\n",
    "    if k in maxvol_indices:\n",
    "        inds = maxvol_indices[k]\n",
    "    else:\n",
    "        inds, C = mv.rect_maxvol(train.T, maxK=k, minK=k)\n",
    "        maxvol_indices[k] = inds\n",
    "        \n",
    "    non_inds = [i for i in range(train.shape[1]) if i not in inds]\n",
    "    train_maxvol = train[:, inds]\n",
    "    valid_maxvol = valid[:, inds]\n",
    "    \n",
    "    # fit on maxvol features\n",
    "    model_maxvol = model.fit(train_maxvol, train_labels)\n",
    "    mv_accs.append(model_maxvol.score(valid_maxvol, valid_labels))\n",
    "\n",
    "    # fit on non-maxvol features\n",
    "    model_nonmaxvol = model.fit(train[:, non_inds], train_labels)\n",
    "    non_mv_accs.append(model_nonmaxvol.score(valid[:, non_inds], valid_labels))\n",
    "\n",
    "    # fit on random features\n",
    "    rand_accuracies = []\n",
    "    for i in range(100):\n",
    "        rand_indices = np.random.choice(train.shape[1], k, replace=False)\n",
    "        train_rand = train[:, rand_indices]\n",
    "        valid_rand = valid[:, rand_indices]\n",
    "\n",
    "        model_rand = model.fit(train_rand, train_labels)\n",
    "        rand_accuracies.append(model_rand.score(valid_rand, valid_labels))\n",
    "\n",
    "    mean_rand_accs.append(np.array(rand_accuracies).mean())"
   ]
  },
  {
   "cell_type": "code",
   "execution_count": 103,
   "metadata": {},
   "outputs": [],
   "source": [
    "'''\n",
    "with open('maxvol_arcene_indices_minmax.txt', 'w') as f:\n",
    "    for k in maxvol_indices:\n",
    "        f.write(' '.join(map(str, maxvol_indices[k])) + '\\n')\n",
    "'''"
   ]
  },
  {
   "cell_type": "code",
   "execution_count": 115,
   "metadata": {},
   "outputs": [],
   "source": [
    "# fit on non-maxvol features\n",
    "pca = PCA().fit(train)\n",
    "model_pca = model.fit(pca.transform(train), train_labels)\n",
    "pca_acc = model_pca.score(pca.transform(valid), valid_labels)"
   ]
  },
  {
   "cell_type": "code",
   "execution_count": 116,
   "metadata": {},
   "outputs": [
    {
     "data": {
      "image/png": "[encoded data removed]",
      "text/plain": [
       "<Figure size 576x360 with 1 Axes>"
      ]
     },
     "metadata": {},
     "output_type": "display_data"
    }
   ],
   "source": [
    "plt.figure(figsize=(8, 5))\n",
    "\n",
    "plt.plot(k_range, mv_accs, c='g', label='maxvol')\n",
    "#plt.plot(k_range, non_mv_accs, c='b', label='non-maxvol')\n",
    "plt.plot(k_range, mean_rand_accs, c='y', label='random')\n",
    "plt.plot(k_range, [full_acc] * len(k_range), c='r', linestyle='--', label='all features')\n",
    "plt.plot(k_range, [pca_acc] * len(k_range), c='pink', linestyle='-.', label='PCA')\n",
    "\n",
    "plt.title('Perceptron classification accuracy')\n",
    "plt.legend()\n",
    "plt.xticks(k_range)\n",
    "plt.xlabel('k')\n",
    "plt.ylabel('Accuracy')\n",
    "plt.show()"
   ]
  }
 ],
 "metadata": {
  "kernelspec": {
   "display_name": "Python 3",
   "language": "python",
   "name": "python3"
  },
  "language_info": {
   "codemirror_mode": {
    "name": "ipython",
    "version": 3
   },
   "file_extension": ".py",
   "mimetype": "text/x-python",
   "name": "python",
   "nbconvert_exporter": "python",
   "pygments_lexer": "ipython3",
   "version": "3.6.4"
  }
 },
 "nbformat": 4,
 "nbformat_minor": 2
}

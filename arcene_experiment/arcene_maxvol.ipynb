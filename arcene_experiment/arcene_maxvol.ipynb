{
 "cells": [
  {
   "cell_type": "code",
   "execution_count": null,
   "metadata": {},
   "outputs": [],
   "source": [
    "import maxvolpy.maxvol as mv\n",
    "import numpy as np\n",
    "import pandas as pd\n",
    "\n",
    "from scipy.sparse.linalg import svds\n",
    "from scipy.sparse import csr_matrix\n",
    "\n",
    "from sklearn.linear_model import Perceptron\n",
    "from sklearn.metrics import accuracy_score\n",
    "from sklearn.decomposition import PCA\n",
    "from sklearn.preprocessing import MinMaxScaler\n",
    "\n",
    "import matplotlib.pyplot as plt"
   ]
  },
  {
   "cell_type": "code",
   "execution_count": null,
   "metadata": {},
   "outputs": [],
   "source": [
    "train = np.loadtxt('datasets/arcene_train.data')\n",
    "train_labels = np.loadtxt('datasets/arcene_train.labels')\n",
    "valid = np.loadtxt('datasets/arcene_valid.data')\n",
    "valid_labels = np.loadtxt('datasets/arcene_valid.labels')\n",
    "\n",
    "# uncomment this part to run the same experiment with scaling\n",
    "\n",
    "#scaler = MinMaxScaler() \n",
    "#train = scaler.fit_transform(train)\n",
    "#valid = scaler.transform(valid)\n",
    "\n",
    "print(f'Train matrix rank: {np.linalg.matrix_rank(train)}')"
   ]
  },
  {
   "cell_type": "code",
   "execution_count": null,
   "metadata": {},
   "outputs": [],
   "source": [
    "maxvol_indices = {}\n",
    "\n",
    "# uncomment if you don't want to recalculate the maxvol-selected indices\n",
    "# `maxvol_arcene_indices_noscale.txt` contains indices calculated for the dataset without scaling\n",
    "# `maxvol_arcene_indices_minmax.txt` contains indices calculated for the dataset with MinMax scaling\n",
    "'''\n",
    "with open('maxvol_arcene_indices_noscale.txt', 'r') as f:\n",
    "    for line in f:\n",
    "        inds = np.array(list(map(int, line.split())))\n",
    "        maxvol_indices[len(inds)] = inds\n",
    "'''"
   ]
  },
  {
   "cell_type": "code",
   "execution_count": null,
   "metadata": {},
   "outputs": [],
   "source": [
    "%%time\n",
    "\n",
    "model = Perceptron(tol=1e-3)\n",
    "\n",
    "mv_accs = []\n",
    "non_mv_accs = []\n",
    "mean_rand_accs = []\n",
    "\n",
    "k_range = [100, 500, 1000, 3000, 5000, 7000, 9000]\n",
    "for k in k_range:\n",
    "    print(f'Processing k = {k}')\n",
    "    if k in maxvol_indices:\n",
    "        inds = maxvol_indices[k]\n",
    "    else:\n",
    "        inds, C = mv.rect_maxvol(train.T, maxK=k, minK=k)\n",
    "        maxvol_indices[k] = inds\n",
    "        \n",
    "    non_inds = [i for i in range(train.shape[1]) if i not in inds]\n",
    "    train_maxvol = train[:, inds]\n",
    "    valid_maxvol = valid[:, inds]\n",
    "    \n",
    "    # fit on maxvol features\n",
    "    model_maxvol = model.fit(train_maxvol, train_labels)\n",
    "    mv_accs.append(model_maxvol.score(valid_maxvol, valid_labels))\n",
    "\n",
    "    # fit on non-maxvol features\n",
    "    model_nonmaxvol = model.fit(train[:, non_inds], train_labels)\n",
    "    non_mv_accs.append(model_nonmaxvol.score(valid[:, non_inds], valid_labels))\n",
    "\n",
    "    # fit on random features\n",
    "    rand_accuracies = []\n",
    "    for i in range(100):\n",
    "        rand_indices = np.random.choice(train.shape[1], k, replace=False)\n",
    "        train_rand = train[:, rand_indices]\n",
    "        valid_rand = valid[:, rand_indices]\n",
    "\n",
    "        model_rand = model.fit(train_rand, train_labels)\n",
    "        rand_accuracies.append(model_rand.score(valid_rand, valid_labels))\n",
    "\n",
    "    mean_rand_accs.append(np.array(rand_accuracies).mean())"
   ]
  },
  {
   "cell_type": "code",
   "execution_count": null,
   "metadata": {},
   "outputs": [],
   "source": [
    "# uncomment if you want to save calculated maxvol indices \n",
    "'''\n",
    "with open('maxvol_arcene_indices_noscale.txt', 'w') as f:\n",
    "    for k in maxvol_indices:\n",
    "        f.write(' '.join(map(str, maxvol_indices[k])) + '\\n')\n",
    "'''"
   ]
  },
  {
   "cell_type": "code",
   "execution_count": null,
   "metadata": {},
   "outputs": [],
   "source": [
    "# fit on non-maxvol features\n",
    "pca = PCA().fit(train)\n",
    "model_pca = model.fit(pca.transform(train), train_labels)\n",
    "pca_acc = model_pca.score(pca.transform(valid), valid_labels)\n",
    "\n",
    "# fit on all features\n",
    "model_full = model.fit(train, train_labels)\n",
    "full_acc = model_full.score(valid, valid_labels) "
   ]
  },
  {
   "cell_type": "code",
   "execution_count": null,
   "metadata": {},
   "outputs": [],
   "source": [
    "plt.figure(figsize=(10, 5))\n",
    "\n",
    "plt.plot(k_range, mv_accs, c='g', label='maxvol')\n",
    "#plt.plot(k_range, non_mv_accs, c='b', label='non-maxvol')\n",
    "plt.plot(k_range, mean_rand_accs, c='y', label='random')\n",
    "plt.plot(k_range, [full_acc] * len(k_range), c='r', linestyle='--', label='all features')\n",
    "plt.plot(k_range, [pca_acc] * len(k_range), c='pink', linestyle='-.', label='PCA')\n",
    "\n",
    "plt.title('Perceptron classification accuracy')\n",
    "plt.legend()\n",
    "plt.xticks(k_range, rotation=90)\n",
    "plt.xlabel('Number of selected features')\n",
    "plt.ylabel('Accuracy')\n",
    "plt.grid()\n",
    "plt.savefig('maxvol_noscale.png', dpi=500)"
   ]
  }
 ],
 "metadata": {
  "kernelspec": {
   "display_name": "Python 3",
   "language": "python",
   "name": "python3"
  },
  "language_info": {
   "codemirror_mode": {
    "name": "ipython",
    "version": 3
   },
   "file_extension": ".py",
   "mimetype": "text/x-python",
   "name": "python",
   "nbconvert_exporter": "python",
   "pygments_lexer": "ipython3",
   "version": "3.6.4"
  }
 },
 "nbformat": 4,
 "nbformat_minor": 2
}
